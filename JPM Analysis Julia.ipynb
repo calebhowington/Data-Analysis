{
 "metadata": {
  "name": "",
  "signature": "sha256:211750754b46c569c13952fe328d92fdd0620ea60377c16fda6a9ef4a79ffb5a"
 },
 "nbformat": 3,
 "nbformat_minor": 0,
 "worksheets": []
}