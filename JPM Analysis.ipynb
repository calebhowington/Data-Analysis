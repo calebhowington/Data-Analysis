{
 "metadata": {
  "name": "",
  "signature": "sha256:b0c22a2b82987ff2c3ee36280793a0d73614b5538219492dc2e75786dada6a1d"
 },
 "nbformat": 3,
 "nbformat_minor": 0,
 "worksheets": [
  {
   "cells": [
    {
     "cell_type": "heading",
     "level": 1,
     "metadata": {},
     "source": [
      "Analysis Notebook for JPM Experiments"
     ]
    },
    {
     "cell_type": "code",
     "collapsed": false,
     "input": [
      "from matplotlib.pyplot import *\n",
      "import matplotlib\n",
      "from numpy import linspace, sin, exp\n",
      "from scipy.constants import h\n",
      "from scipy.optimize import curve_fit\n",
      "\n",
      "%matplotlib inline\n",
      "matplotlib.rcParams['savefig.dpi'] = 144"
     ],
     "language": "python",
     "metadata": {},
     "outputs": [],
     "prompt_number": 1
    },
    {
     "cell_type": "heading",
     "level": 2,
     "metadata": {},
     "source": [
      "Matplotlib Settings"
     ]
    },
    {
     "cell_type": "code",
     "collapsed": false,
     "input": [
      "matplotlib.rcParams['savefig.dpi'] = 144\n",
      "matplotlib.rcParams['savefig.transparent'] = True\n",
      "matplotlib.rcParams['axes.facecolor'] = '#444444'\n",
      "matplotlib.rcParams['axes.edgecolor'] = 'w'\n",
      "matplotlib.rc('xtick',color='w')\n",
      "matplotlib.rc('ytick', color='w')"
     ],
     "language": "python",
     "metadata": {},
     "outputs": [],
     "prompt_number": 2
    },
    {
     "cell_type": "heading",
     "level": 2,
     "metadata": {},
     "source": [
      "Photon Number\n",
      "$$N = \\frac{\\text{RF Power}}{\\hbar\\omega}$$"
     ]
    },
    {
     "cell_type": "code",
     "collapsed": false,
     "input": [
      "def N(power, length, freq):\n",
      "    \"\"\"Power in db, pulse length in ns, freq in GHz\n",
      "    \"\"\"\n",
      "    p = (10.**(power/10.))/1e3 # Convert to Watts\n",
      "    print(\"Power: \" + str(p) + \"Watts\")\n",
      "    \n",
      "    en = p*(length/1.e9) # Energy in given pulse length\n",
      "    print(\"Energy: \" + str(en) + \"Joules\")\n",
      "    \n",
      "    n = en/(h*freq*1.e9) # Divide by hf in GHz\n",
      "    print(\"Photons:\" + str(int(n)))\n",
      "    \n",
      "    return n\n"
     ],
     "language": "python",
     "metadata": {},
     "outputs": [],
     "prompt_number": 3
    },
    {
     "cell_type": "code",
     "collapsed": false,
     "input": [
      "def P_switch(P_dark, P_bright, power, length, freq):\n",
      "    n = N(power, length, freq)\n",
      "    \n",
      "    p = exp(-n)*P_dark + (1-exp(-n))*P_bright\n",
      "    print(\"Switching Probability:\" + str(p) + \"%\")\n",
      "    return p"
     ],
     "language": "python",
     "metadata": {},
     "outputs": [],
     "prompt_number": 4
    },
    {
     "cell_type": "code",
     "collapsed": false,
     "input": [
      "result=P_switch(10, 50, -120., 5, 5)"
     ],
     "language": "python",
     "metadata": {},
     "outputs": [
      {
       "output_type": "stream",
       "stream": "stdout",
       "text": [
        "Power: 1e-15Watts\n",
        "Energy: 5e-24Joules\n",
        "Photons:1\n",
        "Switching Probability:41.1564432557%\n"
       ]
      }
     ],
     "prompt_number": 5
    },
    {
     "cell_type": "heading",
     "level": 2,
     "metadata": {},
     "source": [
      "Contrast \n",
      "$$C = P_{s,\\text{No RF}} - P_{s, \\text{RF}}$$"
     ]
    },
    {
     "cell_type": "code",
     "collapsed": false,
     "input": [
      "def contrast(P_dark, P_bright, power, length, freq):\n",
      "    n = N(power, length, freq)\n",
      "    \n",
      "    c = (exp(-n)-1)*P_dark + (1-exp(-n))*P_bright\n",
      "    print(\"Contrast: \" + str(c) + \"%\")"
     ],
     "language": "python",
     "metadata": {},
     "outputs": [],
     "prompt_number": 6
    },
    {
     "cell_type": "code",
     "collapsed": false,
     "input": [
      "result = contrast(10, 90, -110, 5, 5)"
     ],
     "language": "python",
     "metadata": {},
     "outputs": [
      {
       "output_type": "stream",
       "stream": "stdout",
       "text": [
        "Power: 1e-14Watts\n",
        "Energy: 5e-23Joules\n",
        "Photons:15\n",
        "Contrast: 79.9999776766%\n"
       ]
      }
     ],
     "prompt_number": 7
    },
    {
     "cell_type": "heading",
     "level": 2,
     "metadata": {},
     "source": [
      "Quantum Efficiency\n",
      "\n",
      "$$\\eta = \\frac{P_{s,\\text{RF}} - \\mathrm{e}^{-N}P_{s,\\text{No RF}} }{(1-\\mathrm{e}^{-N})^2}$$"
     ]
    },
    {
     "cell_type": "code",
     "collapsed": false,
     "input": [
      "def qe(P_dark, P_bright, power, length, freq):\n",
      "    n = N(power, length, freq)\n",
      "    eta = (P_switch(P_dark, P_bright, power, length, freq) - exp(-n)*P_dark)/(1-exp(-n))**2\n",
      "    print (\"Quantum Efficiency:\" + str(eta) + \"%\")\n",
      "    return eta"
     ],
     "language": "python",
     "metadata": {},
     "outputs": [],
     "prompt_number": 8
    },
    {
     "cell_type": "code",
     "collapsed": false,
     "input": [
      "result = qe(10., 50., -110., 5., 5.)"
     ],
     "language": "python",
     "metadata": {},
     "outputs": [
      {
       "output_type": "stream",
       "stream": "stdout",
       "text": [
        "Power: 1e-14Watts\n",
        "Energy: 5e-23Joules\n",
        "Photons:15\n",
        "Power: 1e-14Watts\n",
        "Energy: 5e-23Joules\n",
        "Photons:15\n",
        "Switching Probability:49.9999888383%\n",
        "Quantum Efficiency:50.0000139521%\n"
       ]
      }
     ],
     "prompt_number": 9
    },
    {
     "cell_type": "code",
     "collapsed": false,
     "input": [],
     "language": "python",
     "metadata": {},
     "outputs": [
      {
       "ename": "NameError",
       "evalue": "name 'eta' is not defined",
       "output_type": "pyerr",
       "traceback": [
        "\u001b[0;31m---------------------------------------------------------------------------\u001b[0m\n\u001b[0;31mNameError\u001b[0m                                 Traceback (most recent call last)",
        "\u001b[0;32m<ipython-input-66-655d1abbe3e9>\u001b[0m in \u001b[0;36m<module>\u001b[0;34m()\u001b[0m\n\u001b[0;32m----> 1\u001b[0;31m \u001b[0meta\u001b[0m\u001b[0;34m\u001b[0m\u001b[0m\n\u001b[0m",
        "\u001b[0;31mNameError\u001b[0m: name 'eta' is not defined"
       ]
      }
     ],
     "prompt_number": 66
    },
    {
     "cell_type": "code",
     "collapsed": false,
     "input": [],
     "language": "python",
     "metadata": {},
     "outputs": []
    }
   ],
   "metadata": {}
  }
 ]
}