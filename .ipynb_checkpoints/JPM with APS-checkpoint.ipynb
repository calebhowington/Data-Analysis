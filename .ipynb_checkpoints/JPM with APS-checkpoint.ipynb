{
 "metadata": {
  "name": "",
  "signature": "sha256:28507445e90d2d2c982b84a58cb81c5144438ac4543e96479e2343714649635c"
 },
 "nbformat": 3,
 "nbformat_minor": 0,
 "worksheets": []
}