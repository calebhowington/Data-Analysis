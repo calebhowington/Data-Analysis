{
 "metadata": {
  "name": "",
  "signature": "sha256:4ae3e0856a6f65e92a156020cd1d7530318d6a8cd6370c424a116737d892e794"
 },
 "nbformat": 3,
 "nbformat_minor": 0,
 "worksheets": [
  {
   "cells": [
    {
     "cell_type": "code",
     "collapsed": false,
     "input": [],
     "language": "python",
     "metadata": {},
     "outputs": []
    }
   ],
   "metadata": {}
  }
 ]
}