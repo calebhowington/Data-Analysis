{
 "metadata": {
  "name": "",
  "signature": "sha256:93ef0e49b4c560e33781613c3e0f1b909104515d16cc5d483c33afc3622165c2"
 },
 "nbformat": 3,
 "nbformat_minor": 0,
 "worksheets": [
  {
   "cells": [
    {
     "cell_type": "code",
     "collapsed": false,
     "input": [
      "import time\n",
      "from datetime import datetime\n",
      "from matplotlib import pyplot as plt\n",
      "import pyvisa\n",
      "import serial"
     ],
     "language": "python",
     "metadata": {},
     "outputs": [],
     "prompt_number": 1
    },
    {
     "cell_type": "code",
     "collapsed": false,
     "input": [
      "counter = serial.Serial('COM3')\n",
      "counter.baudrate=115200\n",
      "counter.close()\n",
      "counter.open()"
     ],
     "language": "python",
     "metadata": {},
     "outputs": [],
     "prompt_number": 35
    },
    {
     "cell_type": "code",
     "collapsed": false,
     "input": [
      "counter.close()"
     ],
     "language": "python",
     "metadata": {},
     "outputs": [],
     "prompt_number": 43
    },
    {
     "cell_type": "code",
     "collapsed": false,
     "input": [
      "class Counter:\n",
      "    def __init__(self, COMPORT='COM3'):\n",
      "        self.COMPORT = COMPORT\n",
      "        self.serial = serial.Serial(COMPORT)\n",
      "        self.serial.baudrate = 115200\n",
      "        if (not(self.serial.closed)):\n",
      "            self.serial.close()\n",
      "        self.serial.open()\n",
      "        \n",
      "    def __del__(self):\n",
      "        self.serial.close()\n",
      "        \n",
      "    def getCount(self):\n",
      "        self.serial.write('q')\n",
      "        return int(self.serial.readline())\n",
      "    \n",
      "    def reset(self):\n",
      "        self.serial.write('t')\n",
      "        "
     ],
     "language": "python",
     "metadata": {},
     "outputs": [],
     "prompt_number": 44
    },
    {
     "cell_type": "code",
     "collapsed": false,
     "input": [
      "cnt = Counter()"
     ],
     "language": "python",
     "metadata": {},
     "outputs": [],
     "prompt_number": 47
    },
    {
     "cell_type": "code",
     "collapsed": false,
     "input": [
      "del cnt"
     ],
     "language": "python",
     "metadata": {},
     "outputs": [],
     "prompt_number": 48
    },
    {
     "cell_type": "code",
     "collapsed": false,
     "input": [],
     "language": "python",
     "metadata": {},
     "outputs": []
    }
   ],
   "metadata": {}
  }
 ]
}