{
 "metadata": {
  "name": "",
  "signature": "sha256:f99750beeae2e76c1c96e6f05f6936ec0fbdb3f0dcad6acf890f3855cea5b5d7"
 },
 "nbformat": 3,
 "nbformat_minor": 0,
 "worksheets": [
  {
   "cells": [
    {
     "cell_type": "code",
     "collapsed": false,
     "input": [
      "import numpy as np\n",
      "import scipy as sp\n",
      "\n"
     ],
     "language": "python",
     "metadata": {},
     "outputs": []
    }
   ],
   "metadata": {}
  }
 ]
}