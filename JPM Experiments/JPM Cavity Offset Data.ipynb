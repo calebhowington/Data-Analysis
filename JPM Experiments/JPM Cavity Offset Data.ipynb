{
 "cells": [
  {
   "cell_type": "code",
   "execution_count": 23,
   "metadata": {
    "collapsed": false
   },
   "outputs": [
    {
     "name": "stdout",
     "output_type": "stream",
     "text": [
      "Populating the interactive namespace from numpy and matplotlib\n"
     ]
    }
   ],
   "source": [
    "import tkFileDialog\n",
    "import h5py\n",
    "import os\n",
    "%pylab inline"
   ]
  },
  {
   "cell_type": "code",
   "execution_count": 2,
   "metadata": {
    "collapsed": true
   },
   "outputs": [],
   "source": [
    "delays = np.linspace(0, 3, 31)"
   ]
  },
  {
   "cell_type": "code",
   "execution_count": 21,
   "metadata": {
    "collapsed": false
   },
   "outputs": [
    {
     "name": "stdout",
     "output_type": "stream",
     "text": [
      " Volume in drive \\\\128.230.72.36\\labshare is labshare\n",
      " Volume Serial Number is E653-4128\n",
      "\n",
      " Directory of \\\\128.230.72.36\\labshare\\Experiments\\ADR2\\JPM - 051215A-E8 - 5GHz Cavity\\160105\n",
      "\n",
      "01/05/2016  05:11 PM    <DIR>          .\n",
      "01/06/2016  11:41 AM    <DIR>          ..\n",
      "01/05/2016  12:08 PM             9,114 317_JPM - 051215A-E8 - 5GHz Cavity_Dark Bias Jan 5th.h5\n",
      "01/05/2016  12:08 PM    <DIR>          317_JPM - 051215A-E8 - 5GHz Cavity_Dark Bias Jan 5th_cfg\n",
      "01/05/2016  12:09 PM             9,113 318_JPM - 051215A-E8 - 5GHz Cavity_Dark Bias Jan 5th.h5\n",
      "01/05/2016  12:09 PM    <DIR>          318_JPM - 051215A-E8 - 5GHz Cavity_Dark Bias Jan 5th_cfg\n",
      "01/05/2016  12:45 PM             9,594 319_JPM - 051215A-E8 - 5GHz Cavity_Dark Bias Jan 5th.h5\n",
      "01/05/2016  12:45 PM    <DIR>          319_JPM - 051215A-E8 - 5GHz Cavity_Dark Bias Jan 5th_cfg\n",
      "01/05/2016  12:55 PM             9,109 320_JPM - 051215A-E8 - 5GHz Cavity_Drive1us.h5\n",
      "01/05/2016  12:55 PM    <DIR>          320_JPM - 051215A-E8 - 5GHz Cavity_Drive1us_cfg\n",
      "01/05/2016  12:56 PM             9,109 321_JPM - 051215A-E8 - 5GHz Cavity_Drive2us.h5\n",
      "01/05/2016  12:56 PM    <DIR>          321_JPM - 051215A-E8 - 5GHz Cavity_Drive2us_cfg\n",
      "01/05/2016  12:57 PM             9,109 322_JPM - 051215A-E8 - 5GHz Cavity_Drive3us.h5\n",
      "01/05/2016  12:57 PM    <DIR>          322_JPM - 051215A-E8 - 5GHz Cavity_Drive3us_cfg\n",
      "01/05/2016  12:59 PM             9,109 323_JPM - 051215A-E8 - 5GHz Cavity_Drive.5us.h5\n",
      "01/05/2016  12:59 PM    <DIR>          323_JPM - 051215A-E8 - 5GHz Cavity_Drive.5us_cfg\n",
      "01/05/2016  01:00 PM             9,109 324_JPM - 051215A-E8 - 5GHz Cavity_Drive1.5us.h5\n",
      "01/05/2016  01:00 PM    <DIR>          324_JPM - 051215A-E8 - 5GHz Cavity_Drive1.5us_cfg\n",
      "01/05/2016  01:03 PM             9,109 325_JPM - 051215A-E8 - 5GHz Cavity_Drive2.5us.h5\n",
      "01/05/2016  01:03 PM    <DIR>          325_JPM - 051215A-E8 - 5GHz Cavity_Drive2.5us_cfg\n",
      "01/05/2016  01:05 PM             9,109 326_JPM - 051215A-E8 - 5GHz Cavity_Drive3.5us.h5\n",
      "01/05/2016  01:05 PM    <DIR>          326_JPM - 051215A-E8 - 5GHz Cavity_Drive3.5us_cfg\n",
      "01/05/2016  01:07 PM             9,109 327_JPM - 051215A-E8 - 5GHz Cavity_Drive4us.h5\n",
      "01/05/2016  01:07 PM    <DIR>          327_JPM - 051215A-E8 - 5GHz Cavity_Drive4us_cfg\n",
      "01/05/2016  01:16 PM             9,109 328_JPM - 051215A-E8 - 5GHz Cavity_Drive4.5us.h5\n",
      "01/05/2016  01:16 PM    <DIR>          328_JPM - 051215A-E8 - 5GHz Cavity_Drive4.5us_cfg\n",
      "01/05/2016  01:17 PM             9,109 329_JPM - 051215A-E8 - 5GHz Cavity_Drive5us.h5\n",
      "01/05/2016  01:17 PM    <DIR>          329_JPM - 051215A-E8 - 5GHz Cavity_Drive5us_cfg\n",
      "01/05/2016  01:18 PM             9,109 330_JPM - 051215A-E8 - 5GHz Cavity_Drive10us.h5\n",
      "01/05/2016  01:18 PM    <DIR>          330_JPM - 051215A-E8 - 5GHz Cavity_Drive10us_cfg\n",
      "01/05/2016  01:54 PM             9,109 331_JPM - 051215A-E8 - 5GHz Cavity_OffsetDrive0us.h5\n",
      "01/05/2016  01:54 PM    <DIR>          331_JPM - 051215A-E8 - 5GHz Cavity_OffsetDrive0us_cfg\n",
      "01/05/2016  01:58 PM             9,109 332_JPM - 051215A-E8 - 5GHz Cavity_OffsetDrive.1us.h5\n",
      "01/05/2016  01:58 PM    <DIR>          332_JPM - 051215A-E8 - 5GHz Cavity_OffsetDrive.1us_cfg\n",
      "01/05/2016  01:59 PM             9,109 333_JPM - 051215A-E8 - 5GHz Cavity_OffsetDrive.1us.h5\n",
      "01/05/2016  01:59 PM    <DIR>          333_JPM - 051215A-E8 - 5GHz Cavity_OffsetDrive.1us_cfg\n",
      "01/05/2016  02:00 PM             9,109 334_JPM - 051215A-E8 - 5GHz Cavity_OffsetDrive.2us.h5\n",
      "01/05/2016  02:00 PM    <DIR>          334_JPM - 051215A-E8 - 5GHz Cavity_OffsetDrive.2us_cfg\n",
      "01/05/2016  02:01 PM             9,109 335_JPM - 051215A-E8 - 5GHz Cavity_OffsetDrive.3us.h5\n",
      "01/05/2016  02:01 PM    <DIR>          335_JPM - 051215A-E8 - 5GHz Cavity_OffsetDrive.3us_cfg\n",
      "01/05/2016  02:02 PM             9,109 336_JPM - 051215A-E8 - 5GHz Cavity_OffsetDrive.4us.h5\n",
      "01/05/2016  02:02 PM    <DIR>          336_JPM - 051215A-E8 - 5GHz Cavity_OffsetDrive.4us_cfg\n",
      "01/05/2016  02:03 PM             9,109 337_JPM - 051215A-E8 - 5GHz Cavity_OffsetDrive.5us.h5\n",
      "01/05/2016  02:03 PM    <DIR>          337_JPM - 051215A-E8 - 5GHz Cavity_OffsetDrive.5us_cfg\n",
      "01/05/2016  02:04 PM             9,109 338_JPM - 051215A-E8 - 5GHz Cavity_OffsetDrive.6us.h5\n",
      "01/05/2016  02:04 PM    <DIR>          338_JPM - 051215A-E8 - 5GHz Cavity_OffsetDrive.6us_cfg\n",
      "01/05/2016  02:04 PM             9,109 339_JPM - 051215A-E8 - 5GHz Cavity_OffsetDrive.7us.h5\n",
      "01/05/2016  02:04 PM    <DIR>          339_JPM - 051215A-E8 - 5GHz Cavity_OffsetDrive.7us_cfg\n",
      "01/05/2016  02:05 PM             9,109 340_JPM - 051215A-E8 - 5GHz Cavity_OffsetDrive.8us.h5\n",
      "01/05/2016  02:05 PM    <DIR>          340_JPM - 051215A-E8 - 5GHz Cavity_OffsetDrive.8us_cfg\n",
      "01/05/2016  02:06 PM             9,109 341_JPM - 051215A-E8 - 5GHz Cavity_OffsetDrive.9us.h5\n",
      "01/05/2016  02:06 PM    <DIR>          341_JPM - 051215A-E8 - 5GHz Cavity_OffsetDrive.9us_cfg\n",
      "01/05/2016  02:06 PM             9,109 342_JPM - 051215A-E8 - 5GHz Cavity_OffsetDrive1us.h5\n",
      "01/05/2016  02:06 PM    <DIR>          342_JPM - 051215A-E8 - 5GHz Cavity_OffsetDrive1us_cfg\n",
      "01/05/2016  02:09 PM             9,109 343_JPM - 051215A-E8 - 5GHz Cavity_OffsetDrive1.1us.h5\n",
      "01/05/2016  02:09 PM    <DIR>          343_JPM - 051215A-E8 - 5GHz Cavity_OffsetDrive1.1us_cfg\n",
      "01/05/2016  02:10 PM             9,109 344_JPM - 051215A-E8 - 5GHz Cavity_OffsetDrive1.2us.h5\n",
      "01/05/2016  02:10 PM    <DIR>          344_JPM - 051215A-E8 - 5GHz Cavity_OffsetDrive1.2us_cfg\n",
      "01/05/2016  02:11 PM             9,109 345_JPM - 051215A-E8 - 5GHz Cavity_OffsetDrive1.3us.h5\n",
      "01/05/2016  02:11 PM    <DIR>          345_JPM - 051215A-E8 - 5GHz Cavity_OffsetDrive1.3us_cfg\n",
      "01/05/2016  02:11 PM             9,109 346_JPM - 051215A-E8 - 5GHz Cavity_OffsetDrive1.4us.h5\n",
      "01/05/2016  02:11 PM    <DIR>          346_JPM - 051215A-E8 - 5GHz Cavity_OffsetDrive1.4us_cfg\n",
      "01/05/2016  02:12 PM             9,109 347_JPM - 051215A-E8 - 5GHz Cavity_OffsetDrive1.5us.h5\n",
      "01/05/2016  02:12 PM    <DIR>          347_JPM - 051215A-E8 - 5GHz Cavity_OffsetDrive1.5us_cfg\n",
      "01/05/2016  02:13 PM             9,109 348_JPM - 051215A-E8 - 5GHz Cavity_OffsetDrive1.6us.h5\n",
      "01/05/2016  02:13 PM    <DIR>          348_JPM - 051215A-E8 - 5GHz Cavity_OffsetDrive1.6us_cfg\n",
      "01/05/2016  02:13 PM             9,109 349_JPM - 051215A-E8 - 5GHz Cavity_OffsetDrive1.7us.h5\n",
      "01/05/2016  02:13 PM    <DIR>          349_JPM - 051215A-E8 - 5GHz Cavity_OffsetDrive1.7us_cfg\n",
      "01/05/2016  02:14 PM             9,109 350_JPM - 051215A-E8 - 5GHz Cavity_OffsetDrive1.8us.h5\n",
      "01/05/2016  02:14 PM    <DIR>          350_JPM - 051215A-E8 - 5GHz Cavity_OffsetDrive1.8us_cfg\n",
      "01/05/2016  02:15 PM             9,109 351_JPM - 051215A-E8 - 5GHz Cavity_OffsetDrive1.9us.h5\n",
      "01/05/2016  02:15 PM    <DIR>          351_JPM - 051215A-E8 - 5GHz Cavity_OffsetDrive1.9us_cfg\n",
      "01/05/2016  02:15 PM             9,109 352_JPM - 051215A-E8 - 5GHz Cavity_OffsetDrive2us.h5\n",
      "01/05/2016  02:15 PM    <DIR>          352_JPM - 051215A-E8 - 5GHz Cavity_OffsetDrive2us_cfg\n",
      "01/05/2016  02:21 PM             9,109 353_JPM - 051215A-E8 - 5GHz Cavity_OffsetDrive2.1us.h5\n",
      "01/05/2016  02:21 PM    <DIR>          353_JPM - 051215A-E8 - 5GHz Cavity_OffsetDrive2.1us_cfg\n",
      "01/05/2016  02:21 PM             9,109 354_JPM - 051215A-E8 - 5GHz Cavity_OffsetDrive2.2us.h5\n",
      "01/05/2016  02:21 PM    <DIR>          354_JPM - 051215A-E8 - 5GHz Cavity_OffsetDrive2.2us_cfg\n",
      "01/05/2016  02:22 PM             9,109 355_JPM - 051215A-E8 - 5GHz Cavity_OffsetDrive2.3us.h5\n",
      "01/05/2016  02:22 PM    <DIR>          355_JPM - 051215A-E8 - 5GHz Cavity_OffsetDrive2.3us_cfg\n",
      "01/05/2016  02:23 PM             9,109 356_JPM - 051215A-E8 - 5GHz Cavity_OffsetDrive2.4us.h5\n",
      "01/05/2016  02:23 PM    <DIR>          356_JPM - 051215A-E8 - 5GHz Cavity_OffsetDrive2.4us_cfg\n",
      "01/05/2016  02:24 PM             9,109 357_JPM - 051215A-E8 - 5GHz Cavity_OffsetDrive2.5us.h5\n",
      "01/05/2016  02:24 PM    <DIR>          357_JPM - 051215A-E8 - 5GHz Cavity_OffsetDrive2.5us_cfg\n",
      "01/05/2016  02:24 PM             9,109 358_JPM - 051215A-E8 - 5GHz Cavity_OffsetDrive2.6us.h5\n",
      "01/05/2016  02:24 PM    <DIR>          358_JPM - 051215A-E8 - 5GHz Cavity_OffsetDrive2.6us_cfg\n",
      "01/05/2016  02:25 PM             9,109 359_JPM - 051215A-E8 - 5GHz Cavity_OffsetDrive2.7us.h5\n",
      "01/05/2016  02:25 PM    <DIR>          359_JPM - 051215A-E8 - 5GHz Cavity_OffsetDrive2.7us_cfg\n",
      "01/05/2016  02:26 PM             9,109 360_JPM - 051215A-E8 - 5GHz Cavity_OffsetDrive2.8us.h5\n",
      "01/05/2016  02:26 PM    <DIR>          360_JPM - 051215A-E8 - 5GHz Cavity_OffsetDrive2.8us_cfg\n",
      "01/05/2016  02:26 PM             9,109 361_JPM - 051215A-E8 - 5GHz Cavity_OffsetDrive2.9us.h5\n",
      "01/05/2016  02:26 PM    <DIR>          361_JPM - 051215A-E8 - 5GHz Cavity_OffsetDrive2.9us_cfg\n",
      "01/05/2016  02:27 PM             9,109 362_JPM - 051215A-E8 - 5GHz Cavity_OffsetDrive3us.h5\n",
      "01/05/2016  02:27 PM    <DIR>          362_JPM - 051215A-E8 - 5GHz Cavity_OffsetDrive3us_cfg\n",
      "01/05/2016  03:10 PM             9,047 363_JPM - 051215A-E8 - 5GHz Cavity_OffsetSegments2usLength.h5\n",
      "01/05/2016  03:10 PM    <DIR>          363_JPM - 051215A-E8 - 5GHz Cavity_OffsetSegments2usLength_cfg\n",
      "01/05/2016  03:22 PM             9,047 364_JPM - 051215A-E8 - 5GHz Cavity_OffsetSegments2usLength.h5\n",
      "01/05/2016  03:22 PM    <DIR>          364_JPM - 051215A-E8 - 5GHz Cavity_OffsetSegments2usLength_cfg\n",
      "01/05/2016  03:37 PM             9,047 367_JPM - 051215A-E8 - 5GHz Cavity_OffsetSegments2usLength.h5\n",
      "01/05/2016  03:37 PM    <DIR>          367_JPM - 051215A-E8 - 5GHz Cavity_OffsetSegments2usLength_cfg\n",
      "01/05/2016  03:39 PM             9,088 368_JPM - 051215A-E8 - 5GHz Cavity_Frequency Scan.h5\n",
      "01/05/2016  03:39 PM    <DIR>          368_JPM - 051215A-E8 - 5GHz Cavity_Frequency Scan_cfg\n",
      "01/05/2016  03:40 PM             9,647 369_JPM - 051215A-E8 - 5GHz Cavity_Frequency Scan.incomplete\n",
      "01/05/2016  03:43 PM            10,363 370_JPM - 051215A-E8 - 5GHz Cavity_Cav.h5\n",
      "01/05/2016  03:43 PM    <DIR>          370_JPM - 051215A-E8 - 5GHz Cavity_Cav_cfg\n",
      "01/05/2016  03:46 PM            10,366 371_JPM - 051215A-E8 - 5GHz Cavity_Cav.h5\n",
      "01/05/2016  03:46 PM    <DIR>          371_JPM - 051215A-E8 - 5GHz Cavity_Cav_cfg\n",
      "01/05/2016  04:09 PM            10,366 372_JPM - 051215A-E8 - 5GHz Cavity_Cav_20dB.h5\n",
      "01/05/2016  04:09 PM    <DIR>          372_JPM - 051215A-E8 - 5GHz Cavity_Cav_20dB_cfg\n",
      "01/05/2016  04:11 PM            10,365 373_JPM - 051215A-E8 - 5GHz Cavity_Cav_2dB.h5\n",
      "01/05/2016  04:11 PM    <DIR>          373_JPM - 051215A-E8 - 5GHz Cavity_Cav_2dB_cfg\n",
      "01/05/2016  04:15 PM            10,366 374_JPM - 051215A-E8 - 5GHz Cavity_Cav_10dB_ch3.h5\n",
      "01/05/2016  04:15 PM    <DIR>          374_JPM - 051215A-E8 - 5GHz Cavity_Cav_10dB_ch3_cfg\n",
      "01/05/2016  04:31 PM            18,538 375_JPM - 051215A-E8 - 5GHz Cavity_Cav_power_0_15_ch2.h5\n",
      "01/05/2016  04:31 PM    <DIR>          375_JPM - 051215A-E8 - 5GHz Cavity_Cav_power_0_15_ch2_cfg\n",
      "01/05/2016  05:05 PM            10,367 376_JPM - 051215A-E8 - 5GHz Cavity_Cav_30dBatt.h5\n",
      "01/05/2016  05:05 PM    <DIR>          376_JPM - 051215A-E8 - 5GHz Cavity_Cav_30dBatt_cfg\n",
      "01/05/2016  05:08 PM            10,367 377_JPM - 051215A-E8 - 5GHz Cavity_Cav_20dBatt.h5\n",
      "01/05/2016  05:08 PM    <DIR>          377_JPM - 051215A-E8 - 5GHz Cavity_Cav_20dBatt_cfg\n",
      "01/05/2016  05:11 PM            10,367 378_JPM - 051215A-E8 - 5GHz Cavity_Cav_10dBatt.h5\n",
      "01/05/2016  05:11 PM    <DIR>          378_JPM - 051215A-E8 - 5GHz Cavity_Cav_10dBatt_cfg\n",
      "              60 File(s)        566,849 bytes\n",
      "              61 Dir(s)  1,807,672,434,688 bytes free\n"
     ]
    }
   ],
   "source": [
    "ls \\\\128.230.72.36\\labshare\\Experiments\\ADR2\\\"JPM - 051215A-E8 - 5GHz Cavity\"\\160105"
   ]
  },
  {
   "cell_type": "code",
   "execution_count": 26,
   "metadata": {
    "collapsed": false
   },
   "outputs": [
    {
     "ename": "WindowsError",
     "evalue": "[Error 3] The system cannot find the path specified: '\\\\128.230.72.36\\\\labshare\\\\Experiments\\\\ADR2\\\\JPM - 051215A-E8 - 5GHz Cavity/*.*'",
     "output_type": "error",
     "traceback": [
      "\u001b[1;31m---------------------------------------------------------------------------\u001b[0m",
      "\u001b[1;31mWindowsError\u001b[0m                              Traceback (most recent call last)",
      "\u001b[1;32m<ipython-input-26-b16a26979af8>\u001b[0m in \u001b[0;36m<module>\u001b[1;34m()\u001b[0m\n\u001b[1;32m----> 1\u001b[1;33m \u001b[0mos\u001b[0m\u001b[1;33m.\u001b[0m\u001b[0mlistdir\u001b[0m\u001b[1;33m(\u001b[0m\u001b[1;34m'\\\\128.230.72.36\\labshare\\Experiments\\ADR2\\JPM - 051215A-E8 - 5GHz Cavity'\u001b[0m\u001b[1;33m)\u001b[0m\u001b[1;33m\u001b[0m\u001b[0m\n\u001b[0m",
      "\u001b[1;31mWindowsError\u001b[0m: [Error 3] The system cannot find the path specified: '\\\\128.230.72.36\\\\labshare\\\\Experiments\\\\ADR2\\\\JPM - 051215A-E8 - 5GHz Cavity/*.*'"
     ]
    }
   ],
   "source": [
    "os.listdir('\\\\128.230.72.36\\labshare\\Experiments\\ADR2\\JPM - 051215A-E8 - 5GHz Cavity')"
   ]
  },
  {
   "cell_type": "code",
   "execution_count": null,
   "metadata": {
    "collapsed": true
   },
   "outputs": [],
   "source": []
  }
 ],
 "metadata": {
  "kernelspec": {
   "display_name": "Python 2",
   "language": "python",
   "name": "python2"
  },
  "language_info": {
   "codemirror_mode": {
    "name": "ipython",
    "version": 2
   },
   "file_extension": ".py",
   "mimetype": "text/x-python",
   "name": "python",
   "nbconvert_exporter": "python",
   "pygments_lexer": "ipython2",
   "version": "2.7.11"
  }
 },
 "nbformat": 4,
 "nbformat_minor": 0
}
